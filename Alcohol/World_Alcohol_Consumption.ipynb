{
 "cells": [
  {
   "cell_type": "markdown",
   "metadata": {},
   "source": [
    "# World Alcohol Consumption\n",
    "\n",
    "\n",
    "### The data comes in the following format:\n",
    "\n",
    "| Year | WHO Region | Country | Beverage Types | Display Value |\n",
    "|------|------------|---------|----------------|---------------|\n",
    "| 0    | 1          | 2       | 3              | 4             |\n",
    "\n",
    "Each row provides information on alcohol country in a given country during a given year.\n",
    "\n",
    "- Year : The year\n",
    "- WHO Region : Region in which the country is located, i.e Americas, Europe etc\n",
    "- Country : The country\n",
    "- Beverage Types : The type of beverage the data is for, i.e. wine, beer, spirits etc\n",
    "- Display Value : The number of liters on average that a citizen of the country drank during the given year"
   ]
  },
  {
   "cell_type": "code",
   "execution_count": null,
   "metadata": {
    "collapsed": true
   },
   "outputs": [],
   "source": []
  },
  {
   "cell_type": "code",
   "execution_count": 9,
   "metadata": {},
   "outputs": [
    {
     "name": "stdout",
     "output_type": "stream",
     "text": [
      "1986.2081670248695\n"
     ]
    }
   ],
   "source": [
    "import csv\n",
    "\n",
    "# Import the csv, read it, and conver to  a list of lists\n",
    "\n",
    "f = open('world_alcohol.csv')\n",
    "world_alcohol = list(csv.reader(f))\n",
    "world_alcohol = world_alcohol[1:len(world_alcohol)]\n",
    "\n",
    "# Pull out the years into their own list, then find the average year\n",
    "\n",
    "years = []\n",
    "\n",
    "for row in world_alcohol:\n",
    "    years.append(row[0])\n",
    "\n",
    "total = float(0)\n",
    "\n",
    "for year in years:\n",
    "    total = total + float(year)\n",
    "\n",
    "avg_year = total / len(years)\n",
    "print(avg_year)\n"
   ]
  },
  {
   "cell_type": "code",
   "execution_count": null,
   "metadata": {
    "collapsed": true
   },
   "outputs": [],
   "source": []
  }
 ],
 "metadata": {
  "kernelspec": {
   "display_name": "Python 3",
   "language": "python",
   "name": "python3"
  },
  "language_info": {
   "codemirror_mode": {
    "name": "ipython",
    "version": 3
   },
   "file_extension": ".py",
   "mimetype": "text/x-python",
   "name": "python",
   "nbconvert_exporter": "python",
   "pygments_lexer": "ipython3",
   "version": "3.6.1"
  }
 },
 "nbformat": 4,
 "nbformat_minor": 2
}
