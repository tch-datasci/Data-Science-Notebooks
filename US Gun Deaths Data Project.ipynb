{
 "cells": [
  {
   "cell_type": "markdown",
   "metadata": {},
   "source": [
    "# Gun Deaths in the USA 2012 to 2014\n",
    "\n",
    "### Exploring the data\n",
    "***\n",
    "\n",
    "This notebook will explore some gun death data helpfully provided by [fivethirtyeight](https://github.com/fivethirtyeight/guns-data)\n",
    "\n",
    "Each row in the dataset represents a single gun related fatality. There are columns that contain demographic and other information about the victim. The columns are organized as so:\n",
    "\n",
    "| # | year | month | intent | police | sex | age | race | hispanic | place | education |\n",
    "|---|------|-------|--------|--------|-----|-----|------|----------|-------|-----------|\n",
    "| 0 | 1    | 2     | 3      | 4      | 5   | 6   | 7    | 8        | 9     | 10        |\n",
    "\n",
    "***\n",
    "\n",
    "The first row is the header and represents the following data:\n",
    "\n",
    "- \\# (0) : Unique identifier\n",
    "- year (1) : The year in which the fatality occured\n",
    "- month (2) : The month in which the fatality occured\n",
    "- intent (3) : The intent of the perpetrator, this can be one of the following:\n",
    "\n",
    "    - Suicide\n",
    "    - Accidental\n",
    "    - NA\n",
    "    - Homicide\n",
    "    - Undetermined\n",
    "\n",
    "\n",
    "- police (4) : Whether a police officer was involved. Either 1 (True) or 0 (False)\n",
    "- sex (5) : The gender of the victim. M for Male or F for Female\n",
    "- age (6) : The age of the victim\n",
    "- race (7) : The race of the victim, this can be one of the following:\n",
    "\n",
    "    - White\n",
    "    - Asian/Pacific Islander\n",
    "    - Hispanic\n",
    "    - Native American/Native Alaskan\n",
    "    - Black\n",
    "    \n",
    "    \n",
    "- hispanic (8) : A code that indicates the Hispanic origin of the victim\n",
    "- place (9) : Where the shooting occured\n",
    "- education (10) : Education level of the victim, this can be one of the following:\n",
    "\n",
    "    - 1 : Less than High School\n",
    "    - 2 : Graduated from High School or equivalent\n",
    "    - 3 : Some College\n",
    "    - 4 : At least graduated from college\n",
    "    - 5 : N/A\n",
    "\n",
    "***\n",
    "\n",
    "First things first, let's read in and clean up the data...\n",
    "\n",
    "\n",
    "We are going to use the *csv* module to read it in and make a list of lists."
   ]
  },
  {
   "cell_type": "code",
   "execution_count": 1,
   "metadata": {},
   "outputs": [
    {
     "name": "stdout",
     "output_type": "stream",
     "text": [
      "[['', 'year', 'month', 'intent', 'police', 'sex', 'age', 'race', 'hispanic', 'place', 'education'], ['1', '2012', '01', 'Suicide', '0', 'M', '34', 'Asian/Pacific Islander', '100', 'Home', 'BA+'], ['2', '2012', '01', 'Suicide', '0', 'F', '21', 'White', '100', 'Street', 'Some college'], ['3', '2012', '01', 'Suicide', '0', 'M', '60', 'White', '100', 'Other specified', 'BA+'], ['4', '2012', '02', 'Suicide', '0', 'M', '64', 'White', '100', 'Home', 'BA+'], ['5', '2012', '02', 'Suicide', '0', 'M', '31', 'White', '100', 'Other specified', 'HS/GED'], ['6', '2012', '02', 'Suicide', '0', 'M', '17', 'Native American/Native Alaskan', '100', 'Home', 'Less than HS'], ['7', '2012', '02', 'Undetermined', '0', 'M', '48', 'White', '100', 'Home', 'HS/GED'], ['8', '2012', '03', 'Suicide', '0', 'M', '41', 'Native American/Native Alaskan', '100', 'Home', 'HS/GED'], ['9', '2012', '02', 'Accidental', '0', 'M', '50', 'White', '100', 'Other specified', 'Some college']]\n"
     ]
    }
   ],
   "source": [
    "import csv\n",
    "\n",
    "f = open('C:/Users/Manuel/Documents/Python/ipy/Gun Deaths/gun_data.csv', 'r')\n",
    "\n",
    "data = list(csv.reader(f))\n",
    "\n",
    "print(data[:10])"
   ]
  },
  {
   "cell_type": "markdown",
   "metadata": {},
   "source": [
    "***\n",
    "\n",
    "As you can see, it needs a bit of work before we can work with it. Let's start by removing the header row and preserving it in its own variable *headers*. Printing both will ensure that everything went correctly.\n",
    "\n",
    "***"
   ]
  },
  {
   "cell_type": "code",
   "execution_count": 2,
   "metadata": {},
   "outputs": [
    {
     "name": "stdout",
     "output_type": "stream",
     "text": [
      "['', 'year', 'month', 'intent', 'police', 'sex', 'age', 'race', 'hispanic', 'place', 'education']\n",
      "[['1', '2012', '01', 'Suicide', '0', 'M', '34', 'Asian/Pacific Islander', '100', 'Home', 'BA+'], ['2', '2012', '01', 'Suicide', '0', 'F', '21', 'White', '100', 'Street', 'Some college'], ['3', '2012', '01', 'Suicide', '0', 'M', '60', 'White', '100', 'Other specified', 'BA+'], ['4', '2012', '02', 'Suicide', '0', 'M', '64', 'White', '100', 'Home', 'BA+'], ['5', '2012', '02', 'Suicide', '0', 'M', '31', 'White', '100', 'Other specified', 'HS/GED']]\n"
     ]
    }
   ],
   "source": [
    "headers = data[0]\n",
    "print(headers)\n",
    "\n",
    "data = data[1:len(data)]\n",
    "print(data[:5])"
   ]
  },
  {
   "cell_type": "markdown",
   "metadata": {},
   "source": [
    "***\n",
    "\n",
    "Now that the data is cleaned up a bit we can start pulling out good information. We will start by making a dictionary of deaths per year.\n",
    "\n",
    "***"
   ]
  },
  {
   "cell_type": "code",
   "execution_count": 3,
   "metadata": {},
   "outputs": [
    {
     "name": "stdout",
     "output_type": "stream",
     "text": [
      "{'2012': 33563, '2013': 33636, '2014': 33599}\n"
     ]
    }
   ],
   "source": [
    "# Small list comprehension to put the years in their own list\n",
    "\n",
    "years = [death[1] for death in data]\n",
    "\n",
    "# Create an empty dictionary, use a for loop to test if the year is in the dictionary yet or not, if it is add 1 to the count\n",
    "# else create a new key in the dictionary for the year and set the value to 1\n",
    "\n",
    "year_counts = {}\n",
    "\n",
    "for year in years:\n",
    "    if year in year_counts:\n",
    "        year_counts[year] = year_counts[year] + 1\n",
    "    else:\n",
    "        year_counts[year] = 1\n",
    "\n",
    "# Print it to make sure everything looks okay\n",
    "\n",
    "print(year_counts)"
   ]
  },
  {
   "cell_type": "markdown",
   "metadata": {},
   "source": [
    "***\n",
    "\n",
    "Well the good news is that it looks fairly stable in those years. Let's see if there is any significant variance between months next. We are going to import the *datetime* module for this and create a *datetime object* using the year, month and a fixed day of our choice (since it isn't provided in the data). Since the year and month are saved as strings they will be converted to integers.\n",
    "\n",
    "After getting the data ready we will execute a for loop similar to the one to create the *year_counts* dictionary to create a *date_counts* dictionary.\n",
    "\n",
    "***"
   ]
  },
  {
   "cell_type": "code",
   "execution_count": 4,
   "metadata": {},
   "outputs": [
    {
     "name": "stdout",
     "output_type": "stream",
     "text": [
      "[datetime.datetime(2012, 1, 3, 0, 0), datetime.datetime(2012, 1, 3, 0, 0), datetime.datetime(2012, 1, 3, 0, 0), datetime.datetime(2012, 2, 3, 0, 0), datetime.datetime(2012, 2, 3, 0, 0)]\n",
      "{'Jan 03, 2012': 2758, 'Feb 03, 2012': 2357, 'Mar 03, 2012': 2743, 'Apr 03, 2012': 2795, 'May 03, 2012': 2999, 'Jun 03, 2012': 2826, 'Jul 03, 2012': 3026, 'Aug 03, 2012': 2954, 'Sep 03, 2012': 2852, 'Oct 03, 2012': 2733, 'Nov 03, 2012': 2729, 'Dec 03, 2012': 2791, 'Jan 03, 2013': 2864, 'Feb 03, 2013': 2375, 'Mar 03, 2013': 2862, 'Apr 03, 2013': 2798, 'May 03, 2013': 2806, 'Jun 03, 2013': 2920, 'Jul 03, 2013': 3079, 'Aug 03, 2013': 2859, 'Sep 03, 2013': 2742, 'Oct 03, 2013': 2808, 'Nov 03, 2013': 2758, 'Dec 03, 2013': 2765, 'Jan 03, 2014': 2651, 'Feb 03, 2014': 2361, 'Mar 03, 2014': 2684, 'Apr 03, 2014': 2862, 'May 03, 2014': 2864, 'Jun 03, 2014': 2931, 'Jul 03, 2014': 2884, 'Aug 03, 2014': 2970, 'Sep 03, 2014': 2914, 'Oct 03, 2014': 2865, 'Nov 03, 2014': 2756, 'Dec 03, 2014': 2857}\n"
     ]
    }
   ],
   "source": [
    "import datetime\n",
    "\n",
    "# This list comprehension says to create a new datetime object for each row in the data. It will convert the value at 1\n",
    "# to an integer and assign it to year, convert the value at 2 to an integer and assign it to month, and assign 3 to day just as\n",
    "# a placeholder\n",
    "\n",
    "dates = [datetime.datetime(year = int(death[1]), month = int(death[2]), day = 3) for death in data]\n",
    "\n",
    "print(dates[:5])\n",
    "\n",
    "date_counts = {}\n",
    "\n",
    "# This is a little messy here, the datetime .strftime function will convert a datetime object to a string using a formula we\n",
    "# provide it, in this case \"%b %d, %Y\" which formats to \"Month Day, Year\". Otherwise it follows the same logic as the year_counts\n",
    "# formula above. In fact I should probably just make a function for these.\n",
    "\n",
    "for date in dates:\n",
    "    if date.strftime(\"%b %d, %Y\") in date_counts:\n",
    "        date_counts[date.strftime(\"%b %d, %Y\")] = date_counts[date.strftime(\"%b %d, %Y\")] + 1\n",
    "    else:\n",
    "        date_counts[date.strftime(\"%b %d, %Y\")] = 1\n",
    "\n",
    "print(date_counts)"
   ]
  },
  {
   "cell_type": "markdown",
   "metadata": {},
   "source": [
    "***\n",
    "\n",
    "Remember how I said I should make a function for those? Going to do that now.\n",
    "\n",
    "***"
   ]
  },
  {
   "cell_type": "code",
   "execution_count": 7,
   "metadata": {
    "collapsed": true
   },
   "outputs": [],
   "source": [
    "def counter_dict(little_list):\n",
    "    counts = {}\n",
    "    for thing in little_list:\n",
    "        if thing in counts:\n",
    "            counts[thing] = counts[thing] + 1\n",
    "        else:\n",
    "            counts[thing] = 1\n",
    "    return(counts)"
   ]
  },
  {
   "cell_type": "code",
   "execution_count": 8,
   "metadata": {},
   "outputs": [
    {
     "name": "stdout",
     "output_type": "stream",
     "text": [
      "{'M': 86349, 'F': 14449}\n",
      "{'Asian/Pacific Islander': 1326, 'White': 66237, 'Native American/Native Alaskan': 917, 'Black': 23296, 'Hispanic': 9022}\n"
     ]
    }
   ],
   "source": [
    "# Use a list comprehension to make a list of the sex column in the data. Then make a counting dictionary\n",
    "# with our new function\n",
    "\n",
    "sex = [death[5] for death in data]\n",
    "\n",
    "sex_counts = counter_dict(sex)\n",
    "print(sex_counts)\n",
    "\n",
    "# Use a list comprehension to make a list of the race column in the data. Then make a counting dictionary\n",
    "# with our new function\n",
    "\n",
    "race = [death[7] for death in data]\n",
    "\n",
    "race_counts = counter_dict(race)\n",
    "print(race_counts)"
   ]
  },
  {
   "cell_type": "markdown",
   "metadata": {},
   "source": [
    "***\n",
    "\n",
    "There is some great info here but it would be helpful to add some more depth to it. Now we are going to bring in some census data that includes the total number of people of each race in the United States. This dataset is stored in the *census.csv* file. The data is in the following format:\n",
    "\n",
    "| ID | Year | Id.1 | Sex | Id.2 | Hispanic Origin | Id.3 | Id2 | Geography | Total | Race Alone - White | Race Alone - Hispanic | Race Alone - Black or African American | Race Alone - American Indian and Alaska Native | Race Alone - Asian | Race Alone - Native Hawaiian and Other Pacific Islander | Two or More Races |\n",
    "|----|------|------|-----|------|-----------------|------|-----|-----------|-------|--------------------|-----------------------|----------------------------------------|------------------------------------------------|--------------------|---------------------------------------------------------|-------------------|\n",
    "| 0  | 1    | 2    | 3   | 4    | 5               | 6    | 7   | 8         | 9     | 10                 | 11                    | 12                                     | 13                                             | 14                 | 15                                                      | 16                |\n",
    "\n",
    "***\n",
    "\n",
    "The four important columns:\n",
    "- Year : The year the census data is from\n",
    "- Total : The total population of the United States\n",
    "- Race Alone - XXX : The total population of XXX race\n",
    "- Two or More Races : The total population of people of 2 or more races\n",
    "\n",
    "\n",
    "***\n"
   ]
  },
  {
   "cell_type": "code",
   "execution_count": 13,
   "metadata": {},
   "outputs": [
    {
     "name": "stdout",
     "output_type": "stream",
     "text": [
      "[['Id', 'Year', 'Id', 'Sex', 'Id', 'Hispanic Origin', 'Id', 'Id2', 'Geography', 'Total', 'Race Alone - White', 'Race Alone - Hispanic', 'Race Alone - Black or African American', 'Race Alone - American Indian and Alaska Native', 'Race Alone - Asian', 'Race Alone - Native Hawaiian and Other Pacific Islander', 'Two or More Races'], ['cen42010', 'April 1, 2010 Census', 'totsex', 'Both Sexes', 'tothisp', 'Total', '0100000US', '', 'United States', '308745538', '197318956', '44618105', '40250635', '3739506', '15159516', '674625', '6984195']]\n"
     ]
    }
   ],
   "source": [
    "# Read in the csv file and use the *csv module* to make a list of lists\n",
    "\n",
    "cf = open('C:/Users/Manuel/Documents/Python/ipy/Gun Deaths/census.csv', 'r')\n",
    "\n",
    "census = list(csv.reader(cf))\n",
    "\n",
    "print(census)"
   ]
  },
  {
   "cell_type": "code",
   "execution_count": 19,
   "metadata": {},
   "outputs": [
    {
     "name": "stdout",
     "output_type": "stream",
     "text": [
      "{'Id': '0100000US', 'Year': 'April 1, 2010 Census', 'Sex': 'Both Sexes', 'Hispanic Origin': 'Total', 'Id2': '', 'Geography': 'United States', 'Total': '308745538', 'Race Alone - White': '197318956', 'Race Alone - Hispanic': '44618105', 'Race Alone - Black or African American': '40250635', 'Race Alone - American Indian and Alaska Native': '3739506', 'Race Alone - Asian': '15159516', 'Race Alone - Native Hawaiian and Other Pacific Islander': '674625', 'Two or More Races': '6984195'}\n"
     ]
    }
   ],
   "source": [
    "# Put this data into a dictionary. Going to split the nested lists and then enumerate to create the dictionary.\n",
    "\n",
    "col1 = census[0]\n",
    "col2 = census[1]\n",
    "\n",
    "census_dict = {}\n",
    "\n",
    "for i, col in enumerate(col1):\n",
    "    census_dict[col] = col2[i]\n",
    "    \n",
    "print(census_dict)"
   ]
  },
  {
   "cell_type": "markdown",
   "metadata": {},
   "source": [
    "***\n",
    "\n",
    "There is an issue here in which the racial categories don't match between the 2 datasets. We will manually fix this.\n",
    "\n",
    "***"
   ]
  },
  {
   "cell_type": "code",
   "execution_count": 31,
   "metadata": {},
   "outputs": [
    {
     "name": "stdout",
     "output_type": "stream",
     "text": [
      "{'White': 197318956, 'Asian/Pacific Islander': 15834141, 'Hispanic': 44618105, 'Native American/Native Alaskan': 3739506, 'Black': 40250635}\n"
     ]
    }
   ],
   "source": [
    "race_pops = {\n",
    "    \"White\":int(census_dict[\"Race Alone - White\"]),\n",
    "    \"Asian/Pacific Islander\":(int(census_dict[\"Race Alone - Asian\"]) + int(census_dict[\"Race Alone - Native Hawaiian and Other Pacific Islander\"])),\n",
    "    \"Hispanic\":int(census_dict[\"Race Alone - Hispanic\"]),\n",
    "    \"Native American/Native Alaskan\":int(census_dict[\"Race Alone - American Indian and Alaska Native\"]),\n",
    "    \"Black\":int(census_dict[\"Race Alone - Black or African American\"])\n",
    "}\n",
    "\n",
    "print(race_pops)"
   ]
  },
  {
   "cell_type": "markdown",
   "metadata": {},
   "source": [
    "***\n",
    "\n",
    "Now we have two dictionaries, race_counts that contains the number of gun fatalities by race, and race_pops that contains the total population by race. They are both in the same format which makes it easier to work with.\n",
    "\n",
    "First we will calculate the gun death rate for each race\n",
    "\n",
    "***"
   ]
  },
  {
   "cell_type": "code",
   "execution_count": 42,
   "metadata": {
    "collapsed": true
   },
   "outputs": [],
   "source": [
    "def death_rate(race):\n",
    "    rate = int(race_counts[race]) / int(race_pops[race])\n",
    "    return(rate)"
   ]
  },
  {
   "cell_type": "code",
   "execution_count": 43,
   "metadata": {},
   "outputs": [
    {
     "name": "stdout",
     "output_type": "stream",
     "text": [
      "0.0003356849303419181\n",
      "8.374309664161763e-05\n",
      "0.00020220491210910907\n",
      "0.0002452195557381109\n",
      "0.000578773477735196\n"
     ]
    }
   ],
   "source": [
    "# Test to make sure our function works\n",
    "\n",
    "white_rate = death_rate('White')\n",
    "print(white_rate)\n",
    "asian_rate = death_rate('Asian/Pacific Islander')\n",
    "print(asian_rate)\n",
    "hispanic_rate = death_rate('Hispanic')\n",
    "print(hispanic_rate)\n",
    "native_rate = death_rate('Native American/Native Alaskan')\n",
    "print(native_rate)\n",
    "black_rate = death_rate('Black')\n",
    "print(black_rate)"
   ]
  },
  {
   "cell_type": "markdown",
   "metadata": {},
   "source": [
    "***\n",
    "\n",
    "As you can see there are problems with this. Calculating by fatalities per 100,000 should give us a clearer picture.\n",
    "\n",
    "***"
   ]
  },
  {
   "cell_type": "code",
   "execution_count": 44,
   "metadata": {
    "collapsed": true
   },
   "outputs": [],
   "source": [
    "def deaths_per_100(race):\n",
    "    hundred_rate = ((int(race_counts[race]) / int(race_pops[race])) * 100000)\n",
    "    return(hundred_rate)"
   ]
  },
  {
   "cell_type": "code",
   "execution_count": 52,
   "metadata": {},
   "outputs": [
    {
     "name": "stdout",
     "output_type": "stream",
     "text": [
      "White fatalities per 100,000 people:  33.56849303419181\n",
      "Asian fatalities per 100,000 people:  8.374309664161762\n",
      "Hispanic fatalities per 100,000 people:  20.220491210910907\n",
      "Native fatalities per 100,000 people:  24.521955573811088\n",
      "Black fatalities per 100,000 people:  57.8773477735196\n"
     ]
    }
   ],
   "source": [
    "# Test to make sure our function works\n",
    "\n",
    "white_per_hundred = deaths_per_100('White')\n",
    "print(\"White fatalities per 100,000 people: \", white_per_hundred)\n",
    "asian_per_hundred = deaths_per_100('Asian/Pacific Islander')\n",
    "print(\"Asian fatalities per 100,000 people: \", asian_per_hundred)\n",
    "hispanic_per_hundred = deaths_per_100('Hispanic')\n",
    "print(\"Hispanic fatalities per 100,000 people: \", hispanic_per_hundred)\n",
    "native_per_hundred = deaths_per_100('Native American/Native Alaskan')\n",
    "print(\"Native fatalities per 100,000 people: \", native_per_hundred)\n",
    "black_per_hundred = deaths_per_100('Black')\n",
    "print(\"Black fatalities per 100,000 people: \", black_per_hundred)"
   ]
  },
  {
   "cell_type": "code",
   "execution_count": 55,
   "metadata": {},
   "outputs": [
    {
     "name": "stdout",
     "output_type": "stream",
     "text": [
      "Asian/Pacific Islander gun fatalities per 100,000:  8.374309664161762\n",
      "White gun fatalities per 100,000:  33.56849303419181\n",
      "Native American/Native Alaskan gun fatalities per 100,000:  24.521955573811088\n",
      "Black gun fatalities per 100,000:  57.8773477735196\n",
      "Hispanic gun fatalities per 100,000:  20.220491210910907\n"
     ]
    }
   ],
   "source": [
    "# We could iterate for this if we wanted...and we should!\n",
    "\n",
    "for thing in race_counts:\n",
    "    print(thing, \"gun fatalities per 100,000: \", deaths_per_100(thing))"
   ]
  },
  {
   "cell_type": "markdown",
   "metadata": {},
   "source": [
    "***\n",
    "\n",
    "Let's keep pulling out data before making inferences. Next let's find information about gun fatalities based on intent, starting with murder rate for each race.\n",
    "\n",
    "***"
   ]
  },
  {
   "cell_type": "code",
   "execution_count": 66,
   "metadata": {},
   "outputs": [
    {
     "name": "stdout",
     "output_type": "stream",
     "text": [
      "Asian/Pacific Islander gun homicides per 100,000:  3.530346230970155\n",
      "White gun homicides per 100,000:  4.6356417981453335\n",
      "Native American/Native Alaskan gun homicides per 100,000:  8.717729026240365\n",
      "Black gun homicides per 100,000:  48.471284987180944\n",
      "Hispanic gun homicides per 100,000:  12.627161104219914\n"
     ]
    }
   ],
   "source": [
    "# Create a list of all intents and all races. We will enumerate between these.\n",
    "\n",
    "intents = [death[3] for death in data]\n",
    "races = [death[7] for death in data]\n",
    "homicide_by_race_hundred = {}\n",
    "\n",
    "# Create a dictionary of murders by race\n",
    "\n",
    "for i, race in enumerate(races):\n",
    "    if intents[i] == \"Homicide\":\n",
    "        if race in homicide_by_race_hundred:\n",
    "            homicide_by_race_hundred[race] = homicide_by_race_hundred[race] + 1\n",
    "        else:\n",
    "            homicide_by_race_hundred[race] = 1\n",
    "\n",
    "# A function to calculate murder rate per 100k\n",
    "\n",
    "def murders_per_100(race):\n",
    "    murder_rate = ((int(homicide_by_race_hundred[race]) / int(race_pops[race])) * 100000)\n",
    "    return(murder_rate)\n",
    "\n",
    "# Display the murder rate per 100k by race\n",
    "\n",
    "for race in race_counts:\n",
    "    print(race, \"gun homicides per 100,000: \", murders_per_100(race))"
   ]
  },
  {
   "cell_type": "markdown",
   "metadata": {},
   "source": [
    "### Reserved for later analysis\n",
    "\n",
    "#### Possible avenues: link between month and homicides, link between education and suicide, link between education and murder, links between genders, explore accidental deaths, etc etc"
   ]
  },
  {
   "cell_type": "code",
   "execution_count": null,
   "metadata": {
    "collapsed": true
   },
   "outputs": [],
   "source": []
  }
 ],
 "metadata": {
  "kernelspec": {
   "display_name": "Python 3",
   "language": "python",
   "name": "python3"
  },
  "language_info": {
   "codemirror_mode": {
    "name": "ipython",
    "version": 3
   },
   "file_extension": ".py",
   "mimetype": "text/x-python",
   "name": "python",
   "nbconvert_exporter": "python",
   "pygments_lexer": "ipython3",
   "version": "3.6.1"
  }
 },
 "nbformat": 4,
 "nbformat_minor": 2
}
