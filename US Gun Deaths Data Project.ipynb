{
 "cells": [
  {
   "cell_type": "markdown",
   "metadata": {},
   "source": [
    "# Gun Deaths in the USA 2012 to 2014\n",
    "\n",
    "### Baby's first data science project\n",
    "***\n",
    "\n",
    "This notebook will explore some gun death data helpfully provided by [fivethirtyeight](https://github.com/fivethirtyeight/guns-data)\n",
    "\n",
    "Each row in the dataset represents a single gun related fatality. There are columns that contain demographic and other information about the victim. The columns are organized as so:\n",
    "\n",
    "| # | year | month | intent | police | sex | age | race | hispanic | place | education |\n",
    "|---|------|-------|--------|--------|-----|-----|------|----------|-------|-----------|\n",
    "| 0 | 1    | 2     | 3      | 4      | 5   | 6   | 7    | 8        | 9     | 10        |\n",
    "\n",
    "***\n",
    "\n",
    "The first row is the header and represents the following data:\n",
    "\n",
    "- \\# (0) : Unique identifier\n",
    "- year (1) : The year in which the fatality occured\n",
    "- month (2) : The month in which the fatality occured\n",
    "- intent (3) : The intent of the perpetrator, this can be one of the following:\n",
    "\n",
    "    - Suicide\n",
    "    - Accidental\n",
    "    - NA\n",
    "    - Homicide\n",
    "    - Undetermined\n",
    "\n",
    "\n",
    "- police (4) : Whether a police officer was involved. Either 1 (True) or 0 (False)\n",
    "- sex (5) : The gender of the victim. M for Male or F for Female\n",
    "- age (6) : The age of the victim\n",
    "- race (7) : The race of the victim, this can be one of the following:\n",
    "\n",
    "    - White\n",
    "    - Asian/Pacific Islander\n",
    "    - Hispanic\n",
    "    - Native American/Native Alaskan\n",
    "    - Black\n",
    "    \n",
    "    \n",
    "- hispanic (8) : A code that indicates the Hispanic origin of the victim\n",
    "- place (9) : Where the shooting occured\n",
    "- education (10) : Education level of the victim, this can be one of the following:\n",
    "\n",
    "    - 1 : Less than High School\n",
    "    - 2 : Graduated from High School or equivalent\n",
    "    - 3 : Some College\n",
    "    - 4 : At least graduated from college\n",
    "    - 5 : N/A\n",
    "\n",
    "***\n",
    "\n",
    "First things first, let's read in and clean up the data...\n",
    "\n",
    "\n",
    "We are going to use the *csv* module to read it in and make a list of lists."
   ]
  },
  {
   "cell_type": "code",
   "execution_count": 2,
   "metadata": {},
   "outputs": [
    {
     "name": "stdout",
     "output_type": "stream",
     "text": [
      "[['', 'year', 'month', 'intent', 'police', 'sex', 'age', 'race', 'hispanic', 'place', 'education'], ['1', '2012', '01', 'Suicide', '0', 'M', '34', 'Asian/Pacific Islander', '100', 'Home', 'BA+'], ['2', '2012', '01', 'Suicide', '0', 'F', '21', 'White', '100', 'Street', 'Some college'], ['3', '2012', '01', 'Suicide', '0', 'M', '60', 'White', '100', 'Other specified', 'BA+'], ['4', '2012', '02', 'Suicide', '0', 'M', '64', 'White', '100', 'Home', 'BA+'], ['5', '2012', '02', 'Suicide', '0', 'M', '31', 'White', '100', 'Other specified', 'HS/GED'], ['6', '2012', '02', 'Suicide', '0', 'M', '17', 'Native American/Native Alaskan', '100', 'Home', 'Less than HS'], ['7', '2012', '02', 'Undetermined', '0', 'M', '48', 'White', '100', 'Home', 'HS/GED'], ['8', '2012', '03', 'Suicide', '0', 'M', '41', 'Native American/Native Alaskan', '100', 'Home', 'HS/GED'], ['9', '2012', '02', 'Accidental', '0', 'M', '50', 'White', '100', 'Other specified', 'Some college']]\n"
     ]
    }
   ],
   "source": [
    "import csv\n",
    "\n",
    "f = open('C:/Users/Manuel/Documents/Python/ipy/Gun Deaths/gun_data.csv', 'r')\n",
    "\n",
    "data = list(csv.reader(f))\n",
    "\n",
    "print(data[:10])"
   ]
  },
  {
   "cell_type": "markdown",
   "metadata": {},
   "source": [
    "***\n",
    "\n",
    "As you can see, it needs a bit of work before we can work with it. Let's start by removing the header row and preserving it in its own variable *headers*. Printing both will ensure that everything went correctly.\n",
    "\n",
    "***"
   ]
  },
  {
   "cell_type": "code",
   "execution_count": 3,
   "metadata": {},
   "outputs": [
    {
     "name": "stdout",
     "output_type": "stream",
     "text": [
      "['', 'year', 'month', 'intent', 'police', 'sex', 'age', 'race', 'hispanic', 'place', 'education']\n",
      "[['1', '2012', '01', 'Suicide', '0', 'M', '34', 'Asian/Pacific Islander', '100', 'Home', 'BA+'], ['2', '2012', '01', 'Suicide', '0', 'F', '21', 'White', '100', 'Street', 'Some college'], ['3', '2012', '01', 'Suicide', '0', 'M', '60', 'White', '100', 'Other specified', 'BA+'], ['4', '2012', '02', 'Suicide', '0', 'M', '64', 'White', '100', 'Home', 'BA+'], ['5', '2012', '02', 'Suicide', '0', 'M', '31', 'White', '100', 'Other specified', 'HS/GED']]\n"
     ]
    }
   ],
   "source": [
    "headers = data[0]\n",
    "print(headers)\n",
    "\n",
    "data = data[1:len(data)]\n",
    "print(data[:5])"
   ]
  },
  {
   "cell_type": "markdown",
   "metadata": {},
   "source": [
    "***\n",
    "\n",
    "Now that the data is cleaned up a bit we can start pulling out good information. We will start by making a dictionary of deaths per year.\n",
    "\n",
    "***"
   ]
  },
  {
   "cell_type": "code",
   "execution_count": 4,
   "metadata": {},
   "outputs": [
    {
     "name": "stdout",
     "output_type": "stream",
     "text": [
      "{'2012': 33563, '2013': 33636, '2014': 33599}\n"
     ]
    }
   ],
   "source": [
    "# Small list comprehension to put the years in their own list\n",
    "\n",
    "years = [death[1] for death in data]\n",
    "\n",
    "# Create an empty dictionary, use a for loop to test if the year is in the dictionary yet or not, if it is add 1 to the count\n",
    "# else create a new key in the dictionary for the year and set the value to 1\n",
    "\n",
    "year_counts = {}\n",
    "\n",
    "for year in years:\n",
    "    if year in year_counts:\n",
    "        year_counts[year] = year_counts[year] + 1\n",
    "    else:\n",
    "        year_counts[year] = 1\n",
    "\n",
    "# Print it to make sure everything looks okay\n",
    "\n",
    "print(year_counts)"
   ]
  },
  {
   "cell_type": "markdown",
   "metadata": {},
   "source": [
    "***\n",
    "\n",
    "Well the good news is that it looks fairly stable in those years. Let's see if there is any significant variance between months next. We are going to import the *datetime* module for this and create a *datetime object* using the year, month and a fixed day of our choice (since it isn't provided in the data). Since the year and month are saved as strings they will be converted to integers.\n",
    "\n",
    "After getting the data ready we will execute a for loop similar to the one to create the *year_counts* dictionary to create a *date_counts* dictionary.\n",
    "\n",
    "***"
   ]
  },
  {
   "cell_type": "code",
   "execution_count": 9,
   "metadata": {},
   "outputs": [
    {
     "name": "stdout",
     "output_type": "stream",
     "text": [
      "[datetime.datetime(2012, 1, 3, 0, 0), datetime.datetime(2012, 1, 3, 0, 0), datetime.datetime(2012, 1, 3, 0, 0), datetime.datetime(2012, 2, 3, 0, 0), datetime.datetime(2012, 2, 3, 0, 0)]\n",
      "{'Jan 03, 2012': 2758, 'Feb 03, 2012': 2357, 'Mar 03, 2012': 2743, 'Apr 03, 2012': 2795, 'May 03, 2012': 2999, 'Jun 03, 2012': 2826, 'Jul 03, 2012': 3026, 'Aug 03, 2012': 2954, 'Sep 03, 2012': 2852, 'Oct 03, 2012': 2733, 'Nov 03, 2012': 2729, 'Dec 03, 2012': 2791, 'Jan 03, 2013': 2864, 'Feb 03, 2013': 2375, 'Mar 03, 2013': 2862, 'Apr 03, 2013': 2798, 'May 03, 2013': 2806, 'Jun 03, 2013': 2920, 'Jul 03, 2013': 3079, 'Aug 03, 2013': 2859, 'Sep 03, 2013': 2742, 'Oct 03, 2013': 2808, 'Nov 03, 2013': 2758, 'Dec 03, 2013': 2765, 'Jan 03, 2014': 2651, 'Feb 03, 2014': 2361, 'Mar 03, 2014': 2684, 'Apr 03, 2014': 2862, 'May 03, 2014': 2864, 'Jun 03, 2014': 2931, 'Jul 03, 2014': 2884, 'Aug 03, 2014': 2970, 'Sep 03, 2014': 2914, 'Oct 03, 2014': 2865, 'Nov 03, 2014': 2756, 'Dec 03, 2014': 2857}\n"
     ]
    }
   ],
   "source": [
    "import datetime\n",
    "\n",
    "# This list comprehension says to create a new datetime object for each row in the data. It will convert the value at 1\n",
    "# to an integer and assign it to year, convert the value at 2 to an integer and assign it to month, and assign 3 to day just as\n",
    "# a placeholder\n",
    "\n",
    "dates = [datetime.datetime(year = int(death[1]), month = int(death[2]), day = 3) for death in data]\n",
    "\n",
    "print(dates[:5])\n",
    "\n",
    "date_counts = {}\n",
    "\n",
    "# This is a little messy here, the datetime .strftime function will convert a datetime object to a string using a formula we\n",
    "# provide it, in this case \"%b %d, %Y\" which formats to \"Month Day, Year\". Otherwise it follows the same logic as the year_counts\n",
    "# formula above. In fact I should probably just make a function for these.\n",
    "\n",
    "for date in dates:\n",
    "    if date.strftime(\"%b %d, %Y\") in date_counts:\n",
    "        date_counts[date.strftime(\"%b %d, %Y\")] = date_counts[date.strftime(\"%b %d, %Y\")] + 1\n",
    "    else:\n",
    "        date_counts[date.strftime(\"%b %d, %Y\")] = 1\n",
    "\n",
    "print(date_counts)"
   ]
  },
  {
   "cell_type": "markdown",
   "metadata": {},
   "source": [
    "***\n",
    "\n",
    "Remember how I said I should make a function for those? Going to do that now.\n",
    "\n",
    "***"
   ]
  },
  {
   "cell_type": "code",
   "execution_count": null,
   "metadata": {
    "collapsed": true
   },
   "outputs": [],
   "source": []
  }
 ],
 "metadata": {
  "kernelspec": {
   "display_name": "Python 3",
   "language": "python",
   "name": "python3"
  },
  "language_info": {
   "codemirror_mode": {
    "name": "ipython",
    "version": 3
   },
   "file_extension": ".py",
   "mimetype": "text/x-python",
   "name": "python",
   "nbconvert_exporter": "python",
   "pygments_lexer": "ipython3",
   "version": "3.6.1"
  }
 },
 "nbformat": 4,
 "nbformat_minor": 2
}
