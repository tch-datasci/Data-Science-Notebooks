{
 "cells": [
  {
   "cell_type": "markdown",
   "metadata": {},
   "source": [
    "# Gun Deaths in the USA 2012 to 2014\n",
    "\n",
    "### Baby's first data science project\n",
    "***\n",
    "\n",
    "This notebook will explore some gun death data helpfully provided by [fivethirtyeight](https://github.com/fivethirtyeight/guns-data)\n",
    "\n",
    "Each row in the dataset represents a single gun related fatality. There are columns that contain demographic and other information about the victim. The columns are organized as so:\n",
    "\n",
    "| # | # | year | month | intent | police | sex | age | race | hispanic | place | education |\n",
    "|---|---|------|-------|--------|--------|-----|-----|------|----------|-------|-----------|\n",
    "| 0 | 1 | 2    | 3     | 4      | 5      | 6   | 7   | 8    | 9        | 10    | 11        |\n",
    "\n",
    "***\n",
    "\n",
    "The first row is the header and represents the following data:\n",
    "\n",
    "- \\# (0) : Unique identifier\n",
    "- \\# (1) : Unique identifier\n",
    "- year (2) : The year in which the fatality occured\n",
    "- month (3) : The month in which the fatality occured\n",
    "- intent (4) : The intent of the perpetrator, this can be one of the following:\n",
    "\n",
    "    - Suicide\n",
    "    - Accidental\n",
    "    - NA\n",
    "    - Homicide\n",
    "    - Undetermined\n",
    "\n",
    "\n",
    "- police (5) : Whether a police officer was involved. Either 1 (True) or 0 (False)\n",
    "- sex (6) : The gender of the victim. M for Male or F for Female\n",
    "- age (7) : The age of the victim\n",
    "- race (8) : The race of the victim, this can be one of the following:\n",
    "\n",
    "    - White\n",
    "    - Asian/Pacific Islander\n",
    "    - Hispanic\n",
    "    - Native American/Native Alaskan\n",
    "    - Black\n",
    "    \n",
    "    \n",
    "- hispanic (9) : A code that indicates the Hispanic origin of the victim\n",
    "- place (10) : Where the shooting occured\n",
    "- education (11) : Education level of the victim, this can be one of the following:\n",
    "\n",
    "    - 1 : Less than High School\n",
    "    - 2 : Graduated from High School or equivalent\n",
    "    - 3 : Some College\n",
    "    - 4 : At least graduated from college\n",
    "    - 5 : N/A\n",
    "\n",
    "***\n",
    "\n",
    "First things first, let's read and clean up the data..."
   ]
  },
  {
   "cell_type": "code",
   "execution_count": null,
   "metadata": {
    "collapsed": true
   },
   "outputs": [],
   "source": []
  }
 ],
 "metadata": {
  "kernelspec": {
   "display_name": "Python 3",
   "language": "python",
   "name": "python3"
  },
  "language_info": {
   "codemirror_mode": {
    "name": "ipython",
    "version": 3
   },
   "file_extension": ".py",
   "mimetype": "text/x-python",
   "name": "python",
   "nbconvert_exporter": "python",
   "pygments_lexer": "ipython3",
   "version": "3.6.1"
  }
 },
 "nbformat": 4,
 "nbformat_minor": 2
}
